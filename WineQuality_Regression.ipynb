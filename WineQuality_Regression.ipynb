{
  "cells": [
    {
      "cell_type": "markdown",
      "metadata": {
        "id": "view-in-github",
        "colab_type": "text"
      },
      "source": [
        "<a href=\"https://colab.research.google.com/github/OJShearer/Learning/blob/main/WineQuality_Regression.ipynb\" target=\"_parent\"><img src=\"https://colab.research.google.com/assets/colab-badge.svg\" alt=\"Open In Colab\"/></a>"
      ]
    },
    {
      "cell_type": "markdown",
      "metadata": {
        "id": "b-MeKKMs55WA"
      },
      "source": [
        "# Practical Machine Learning \n",
        "### Project: Model Selection"
      ]
    },
    {
      "cell_type": "markdown",
      "metadata": {
        "id": "FEge15Hl55WD"
      },
      "source": [
        "# Abstract"
      ]
    },
    {
      "cell_type": "markdown",
      "metadata": {
        "id": "rmJJOdz955WE"
      },
      "source": [
        "# Part 1: Business and Data Understanding"
      ]
    },
    {
      "cell_type": "markdown",
      "metadata": {
        "id": "K_EWcKs255WG"
      },
      "source": [
        "### Q. Identify a suitable dataset for your canditate question(s)"
      ]
    },
    {
      "cell_type": "markdown",
      "metadata": {
        "id": "NA2qaEL155WH"
      },
      "source": [
        "Go have a look at any of these websites:\n",
        "\n",
        "* https://www.kaggle.com/datasets \n",
        "* https://datasetsearch.research.google.com/\n",
        "* https://data.gov.uk/\n",
        "\n",
        "Find an interesting looking data set related to your problem domain and get a copy of it\n"
      ]
    },
    {
      "cell_type": "code",
      "execution_count": 1,
      "metadata": {
        "id": "HuoWXO_Q55WH",
        "outputId": "821e2eda-271a-429f-94b3-29643a0a74da",
        "colab": {
          "base_uri": "https://localhost:8080/",
          "height": 267
        }
      },
      "outputs": [
        {
          "output_type": "execute_result",
          "data": {
            "text/plain": [
              "   fixed acidity  volatile acidity  citric acid  residual sugar  chlorides  \\\n",
              "0            7.4              0.70         0.00             1.9      0.076   \n",
              "1            7.8              0.88         0.00             2.6      0.098   \n",
              "2            7.8              0.76         0.04             2.3      0.092   \n",
              "3           11.2              0.28         0.56             1.9      0.075   \n",
              "4            7.4              0.70         0.00             1.9      0.076   \n",
              "\n",
              "   free sulfur dioxide  total sulfur dioxide  density    pH  sulphates  \\\n",
              "0                 11.0                  34.0   0.9978  3.51       0.56   \n",
              "1                 25.0                  67.0   0.9968  3.20       0.68   \n",
              "2                 15.0                  54.0   0.9970  3.26       0.65   \n",
              "3                 17.0                  60.0   0.9980  3.16       0.58   \n",
              "4                 11.0                  34.0   0.9978  3.51       0.56   \n",
              "\n",
              "   alcohol  quality  \n",
              "0      9.4        5  \n",
              "1      9.8        5  \n",
              "2      9.8        5  \n",
              "3      9.8        6  \n",
              "4      9.4        5  "
            ],
            "text/html": [
              "\n",
              "  <div id=\"df-349bc0f3-4d97-4335-bd78-d86c94542124\">\n",
              "    <div class=\"colab-df-container\">\n",
              "      <div>\n",
              "<style scoped>\n",
              "    .dataframe tbody tr th:only-of-type {\n",
              "        vertical-align: middle;\n",
              "    }\n",
              "\n",
              "    .dataframe tbody tr th {\n",
              "        vertical-align: top;\n",
              "    }\n",
              "\n",
              "    .dataframe thead th {\n",
              "        text-align: right;\n",
              "    }\n",
              "</style>\n",
              "<table border=\"1\" class=\"dataframe\">\n",
              "  <thead>\n",
              "    <tr style=\"text-align: right;\">\n",
              "      <th></th>\n",
              "      <th>fixed acidity</th>\n",
              "      <th>volatile acidity</th>\n",
              "      <th>citric acid</th>\n",
              "      <th>residual sugar</th>\n",
              "      <th>chlorides</th>\n",
              "      <th>free sulfur dioxide</th>\n",
              "      <th>total sulfur dioxide</th>\n",
              "      <th>density</th>\n",
              "      <th>pH</th>\n",
              "      <th>sulphates</th>\n",
              "      <th>alcohol</th>\n",
              "      <th>quality</th>\n",
              "    </tr>\n",
              "  </thead>\n",
              "  <tbody>\n",
              "    <tr>\n",
              "      <th>0</th>\n",
              "      <td>7.4</td>\n",
              "      <td>0.70</td>\n",
              "      <td>0.00</td>\n",
              "      <td>1.9</td>\n",
              "      <td>0.076</td>\n",
              "      <td>11.0</td>\n",
              "      <td>34.0</td>\n",
              "      <td>0.9978</td>\n",
              "      <td>3.51</td>\n",
              "      <td>0.56</td>\n",
              "      <td>9.4</td>\n",
              "      <td>5</td>\n",
              "    </tr>\n",
              "    <tr>\n",
              "      <th>1</th>\n",
              "      <td>7.8</td>\n",
              "      <td>0.88</td>\n",
              "      <td>0.00</td>\n",
              "      <td>2.6</td>\n",
              "      <td>0.098</td>\n",
              "      <td>25.0</td>\n",
              "      <td>67.0</td>\n",
              "      <td>0.9968</td>\n",
              "      <td>3.20</td>\n",
              "      <td>0.68</td>\n",
              "      <td>9.8</td>\n",
              "      <td>5</td>\n",
              "    </tr>\n",
              "    <tr>\n",
              "      <th>2</th>\n",
              "      <td>7.8</td>\n",
              "      <td>0.76</td>\n",
              "      <td>0.04</td>\n",
              "      <td>2.3</td>\n",
              "      <td>0.092</td>\n",
              "      <td>15.0</td>\n",
              "      <td>54.0</td>\n",
              "      <td>0.9970</td>\n",
              "      <td>3.26</td>\n",
              "      <td>0.65</td>\n",
              "      <td>9.8</td>\n",
              "      <td>5</td>\n",
              "    </tr>\n",
              "    <tr>\n",
              "      <th>3</th>\n",
              "      <td>11.2</td>\n",
              "      <td>0.28</td>\n",
              "      <td>0.56</td>\n",
              "      <td>1.9</td>\n",
              "      <td>0.075</td>\n",
              "      <td>17.0</td>\n",
              "      <td>60.0</td>\n",
              "      <td>0.9980</td>\n",
              "      <td>3.16</td>\n",
              "      <td>0.58</td>\n",
              "      <td>9.8</td>\n",
              "      <td>6</td>\n",
              "    </tr>\n",
              "    <tr>\n",
              "      <th>4</th>\n",
              "      <td>7.4</td>\n",
              "      <td>0.70</td>\n",
              "      <td>0.00</td>\n",
              "      <td>1.9</td>\n",
              "      <td>0.076</td>\n",
              "      <td>11.0</td>\n",
              "      <td>34.0</td>\n",
              "      <td>0.9978</td>\n",
              "      <td>3.51</td>\n",
              "      <td>0.56</td>\n",
              "      <td>9.4</td>\n",
              "      <td>5</td>\n",
              "    </tr>\n",
              "  </tbody>\n",
              "</table>\n",
              "</div>\n",
              "      <button class=\"colab-df-convert\" onclick=\"convertToInteractive('df-349bc0f3-4d97-4335-bd78-d86c94542124')\"\n",
              "              title=\"Convert this dataframe to an interactive table.\"\n",
              "              style=\"display:none;\">\n",
              "        \n",
              "  <svg xmlns=\"http://www.w3.org/2000/svg\" height=\"24px\"viewBox=\"0 0 24 24\"\n",
              "       width=\"24px\">\n",
              "    <path d=\"M0 0h24v24H0V0z\" fill=\"none\"/>\n",
              "    <path d=\"M18.56 5.44l.94 2.06.94-2.06 2.06-.94-2.06-.94-.94-2.06-.94 2.06-2.06.94zm-11 1L8.5 8.5l.94-2.06 2.06-.94-2.06-.94L8.5 2.5l-.94 2.06-2.06.94zm10 10l.94 2.06.94-2.06 2.06-.94-2.06-.94-.94-2.06-.94 2.06-2.06.94z\"/><path d=\"M17.41 7.96l-1.37-1.37c-.4-.4-.92-.59-1.43-.59-.52 0-1.04.2-1.43.59L10.3 9.45l-7.72 7.72c-.78.78-.78 2.05 0 2.83L4 21.41c.39.39.9.59 1.41.59.51 0 1.02-.2 1.41-.59l7.78-7.78 2.81-2.81c.8-.78.8-2.07 0-2.86zM5.41 20L4 18.59l7.72-7.72 1.47 1.35L5.41 20z\"/>\n",
              "  </svg>\n",
              "      </button>\n",
              "      \n",
              "  <style>\n",
              "    .colab-df-container {\n",
              "      display:flex;\n",
              "      flex-wrap:wrap;\n",
              "      gap: 12px;\n",
              "    }\n",
              "\n",
              "    .colab-df-convert {\n",
              "      background-color: #E8F0FE;\n",
              "      border: none;\n",
              "      border-radius: 50%;\n",
              "      cursor: pointer;\n",
              "      display: none;\n",
              "      fill: #1967D2;\n",
              "      height: 32px;\n",
              "      padding: 0 0 0 0;\n",
              "      width: 32px;\n",
              "    }\n",
              "\n",
              "    .colab-df-convert:hover {\n",
              "      background-color: #E2EBFA;\n",
              "      box-shadow: 0px 1px 2px rgba(60, 64, 67, 0.3), 0px 1px 3px 1px rgba(60, 64, 67, 0.15);\n",
              "      fill: #174EA6;\n",
              "    }\n",
              "\n",
              "    [theme=dark] .colab-df-convert {\n",
              "      background-color: #3B4455;\n",
              "      fill: #D2E3FC;\n",
              "    }\n",
              "\n",
              "    [theme=dark] .colab-df-convert:hover {\n",
              "      background-color: #434B5C;\n",
              "      box-shadow: 0px 1px 3px 1px rgba(0, 0, 0, 0.15);\n",
              "      filter: drop-shadow(0px 1px 2px rgba(0, 0, 0, 0.3));\n",
              "      fill: #FFFFFF;\n",
              "    }\n",
              "  </style>\n",
              "\n",
              "      <script>\n",
              "        const buttonEl =\n",
              "          document.querySelector('#df-349bc0f3-4d97-4335-bd78-d86c94542124 button.colab-df-convert');\n",
              "        buttonEl.style.display =\n",
              "          google.colab.kernel.accessAllowed ? 'block' : 'none';\n",
              "\n",
              "        async function convertToInteractive(key) {\n",
              "          const element = document.querySelector('#df-349bc0f3-4d97-4335-bd78-d86c94542124');\n",
              "          const dataTable =\n",
              "            await google.colab.kernel.invokeFunction('convertToInteractive',\n",
              "                                                     [key], {});\n",
              "          if (!dataTable) return;\n",
              "\n",
              "          const docLinkHtml = 'Like what you see? Visit the ' +\n",
              "            '<a target=\"_blank\" href=https://colab.research.google.com/notebooks/data_table.ipynb>data table notebook</a>'\n",
              "            + ' to learn more about interactive tables.';\n",
              "          element.innerHTML = '';\n",
              "          dataTable['output_type'] = 'display_data';\n",
              "          await google.colab.output.renderOutput(dataTable, element);\n",
              "          const docLink = document.createElement('div');\n",
              "          docLink.innerHTML = docLinkHtml;\n",
              "          element.appendChild(docLink);\n",
              "        }\n",
              "      </script>\n",
              "    </div>\n",
              "  </div>\n",
              "  "
            ]
          },
          "metadata": {},
          "execution_count": 1
        }
      ],
      "source": [
        "# https://www.kaggle.com/uciml/red-wine-quality-cortez-et-al-2009\n",
        "# Red wine quality dataset\n",
        "\n",
        "import pandas as pd\n",
        "import numpy as np\n",
        "\n",
        "df = pd.read_csv('/content/winequality-red.csv')\n",
        "df.head()"
      ]
    },
    {
      "cell_type": "markdown",
      "metadata": {
        "id": "t6sxB-Op55WF"
      },
      "source": [
        "### Q. Define the problem domain"
      ]
    },
    {
      "cell_type": "markdown",
      "source": [
        "Regression problem to predict the quality of wine given statistics about the levels of acidity and other chemicals."
      ],
      "metadata": {
        "id": "ybx2eeXDUdcb"
      }
    },
    {
      "cell_type": "markdown",
      "metadata": {
        "id": "PasUNESl55WG"
      },
      "source": [
        "### Q. Identify candidate questions for your machine learning project"
      ]
    },
    {
      "cell_type": "code",
      "source": [
        "df.info()"
      ],
      "metadata": {
        "id": "wuicQVFJU246",
        "outputId": "0e796e35-5d48-4ea0-9ee3-7a314fa4cd95",
        "colab": {
          "base_uri": "https://localhost:8080/"
        }
      },
      "execution_count": 2,
      "outputs": [
        {
          "output_type": "stream",
          "name": "stdout",
          "text": [
            "<class 'pandas.core.frame.DataFrame'>\n",
            "RangeIndex: 1599 entries, 0 to 1598\n",
            "Data columns (total 12 columns):\n",
            " #   Column                Non-Null Count  Dtype  \n",
            "---  ------                --------------  -----  \n",
            " 0   fixed acidity         1599 non-null   float64\n",
            " 1   volatile acidity      1599 non-null   float64\n",
            " 2   citric acid           1599 non-null   float64\n",
            " 3   residual sugar        1599 non-null   float64\n",
            " 4   chlorides             1599 non-null   float64\n",
            " 5   free sulfur dioxide   1599 non-null   float64\n",
            " 6   total sulfur dioxide  1599 non-null   float64\n",
            " 7   density               1599 non-null   float64\n",
            " 8   pH                    1599 non-null   float64\n",
            " 9   sulphates             1599 non-null   float64\n",
            " 10  alcohol               1599 non-null   float64\n",
            " 11  quality               1599 non-null   int64  \n",
            "dtypes: float64(11), int64(1)\n",
            "memory usage: 150.0 KB\n"
          ]
        }
      ]
    },
    {
      "cell_type": "code",
      "source": [
        "df.nunique()"
      ],
      "metadata": {
        "id": "QtbWo1G9VM3s",
        "outputId": "71bfaefb-e3c8-4e77-8a4a-3498b7a1c98c",
        "colab": {
          "base_uri": "https://localhost:8080/"
        }
      },
      "execution_count": 5,
      "outputs": [
        {
          "output_type": "execute_result",
          "data": {
            "text/plain": [
              "fixed acidity            96\n",
              "volatile acidity        143\n",
              "citric acid              80\n",
              "residual sugar           91\n",
              "chlorides               153\n",
              "free sulfur dioxide      60\n",
              "total sulfur dioxide    144\n",
              "density                 436\n",
              "pH                       89\n",
              "sulphates                96\n",
              "alcohol                  65\n",
              "quality                   6\n",
              "dtype: int64"
            ]
          },
          "metadata": {},
          "execution_count": 5
        }
      ]
    },
    {
      "cell_type": "markdown",
      "metadata": {
        "id": "zsCo6Gmf55WH"
      },
      "source": [
        "### Q. Generate a descriptive statistics report for the columns in your dataset"
      ]
    },
    {
      "cell_type": "code",
      "execution_count": 7,
      "metadata": {
        "id": "1uvJKQH755WH",
        "outputId": "50204b64-364e-47f4-c5f1-604af753b9c8",
        "colab": {
          "base_uri": "https://localhost:8080/",
          "height": 425
        }
      },
      "outputs": [
        {
          "output_type": "execute_result",
          "data": {
            "text/plain": [
              "                       count       mean        std      min      25%  \\\n",
              "fixed acidity         1599.0   8.319637   1.741096  4.60000   7.1000   \n",
              "volatile acidity      1599.0   0.527821   0.179060  0.12000   0.3900   \n",
              "citric acid           1599.0   0.270976   0.194801  0.00000   0.0900   \n",
              "residual sugar        1599.0   2.538806   1.409928  0.90000   1.9000   \n",
              "chlorides             1599.0   0.087467   0.047065  0.01200   0.0700   \n",
              "free sulfur dioxide   1599.0  15.874922  10.460157  1.00000   7.0000   \n",
              "total sulfur dioxide  1599.0  46.467792  32.895324  6.00000  22.0000   \n",
              "density               1599.0   0.996747   0.001887  0.99007   0.9956   \n",
              "pH                    1599.0   3.311113   0.154386  2.74000   3.2100   \n",
              "sulphates             1599.0   0.658149   0.169507  0.33000   0.5500   \n",
              "alcohol               1599.0  10.422983   1.065668  8.40000   9.5000   \n",
              "quality               1599.0   5.636023   0.807569  3.00000   5.0000   \n",
              "\n",
              "                           50%        75%        max  \n",
              "fixed acidity          7.90000   9.200000   15.90000  \n",
              "volatile acidity       0.52000   0.640000    1.58000  \n",
              "citric acid            0.26000   0.420000    1.00000  \n",
              "residual sugar         2.20000   2.600000   15.50000  \n",
              "chlorides              0.07900   0.090000    0.61100  \n",
              "free sulfur dioxide   14.00000  21.000000   72.00000  \n",
              "total sulfur dioxide  38.00000  62.000000  289.00000  \n",
              "density                0.99675   0.997835    1.00369  \n",
              "pH                     3.31000   3.400000    4.01000  \n",
              "sulphates              0.62000   0.730000    2.00000  \n",
              "alcohol               10.20000  11.100000   14.90000  \n",
              "quality                6.00000   6.000000    8.00000  "
            ],
            "text/html": [
              "\n",
              "  <div id=\"df-7cd3c1e9-9c62-428c-be56-6e2e325139a8\">\n",
              "    <div class=\"colab-df-container\">\n",
              "      <div>\n",
              "<style scoped>\n",
              "    .dataframe tbody tr th:only-of-type {\n",
              "        vertical-align: middle;\n",
              "    }\n",
              "\n",
              "    .dataframe tbody tr th {\n",
              "        vertical-align: top;\n",
              "    }\n",
              "\n",
              "    .dataframe thead th {\n",
              "        text-align: right;\n",
              "    }\n",
              "</style>\n",
              "<table border=\"1\" class=\"dataframe\">\n",
              "  <thead>\n",
              "    <tr style=\"text-align: right;\">\n",
              "      <th></th>\n",
              "      <th>count</th>\n",
              "      <th>mean</th>\n",
              "      <th>std</th>\n",
              "      <th>min</th>\n",
              "      <th>25%</th>\n",
              "      <th>50%</th>\n",
              "      <th>75%</th>\n",
              "      <th>max</th>\n",
              "    </tr>\n",
              "  </thead>\n",
              "  <tbody>\n",
              "    <tr>\n",
              "      <th>fixed acidity</th>\n",
              "      <td>1599.0</td>\n",
              "      <td>8.319637</td>\n",
              "      <td>1.741096</td>\n",
              "      <td>4.60000</td>\n",
              "      <td>7.1000</td>\n",
              "      <td>7.90000</td>\n",
              "      <td>9.200000</td>\n",
              "      <td>15.90000</td>\n",
              "    </tr>\n",
              "    <tr>\n",
              "      <th>volatile acidity</th>\n",
              "      <td>1599.0</td>\n",
              "      <td>0.527821</td>\n",
              "      <td>0.179060</td>\n",
              "      <td>0.12000</td>\n",
              "      <td>0.3900</td>\n",
              "      <td>0.52000</td>\n",
              "      <td>0.640000</td>\n",
              "      <td>1.58000</td>\n",
              "    </tr>\n",
              "    <tr>\n",
              "      <th>citric acid</th>\n",
              "      <td>1599.0</td>\n",
              "      <td>0.270976</td>\n",
              "      <td>0.194801</td>\n",
              "      <td>0.00000</td>\n",
              "      <td>0.0900</td>\n",
              "      <td>0.26000</td>\n",
              "      <td>0.420000</td>\n",
              "      <td>1.00000</td>\n",
              "    </tr>\n",
              "    <tr>\n",
              "      <th>residual sugar</th>\n",
              "      <td>1599.0</td>\n",
              "      <td>2.538806</td>\n",
              "      <td>1.409928</td>\n",
              "      <td>0.90000</td>\n",
              "      <td>1.9000</td>\n",
              "      <td>2.20000</td>\n",
              "      <td>2.600000</td>\n",
              "      <td>15.50000</td>\n",
              "    </tr>\n",
              "    <tr>\n",
              "      <th>chlorides</th>\n",
              "      <td>1599.0</td>\n",
              "      <td>0.087467</td>\n",
              "      <td>0.047065</td>\n",
              "      <td>0.01200</td>\n",
              "      <td>0.0700</td>\n",
              "      <td>0.07900</td>\n",
              "      <td>0.090000</td>\n",
              "      <td>0.61100</td>\n",
              "    </tr>\n",
              "    <tr>\n",
              "      <th>free sulfur dioxide</th>\n",
              "      <td>1599.0</td>\n",
              "      <td>15.874922</td>\n",
              "      <td>10.460157</td>\n",
              "      <td>1.00000</td>\n",
              "      <td>7.0000</td>\n",
              "      <td>14.00000</td>\n",
              "      <td>21.000000</td>\n",
              "      <td>72.00000</td>\n",
              "    </tr>\n",
              "    <tr>\n",
              "      <th>total sulfur dioxide</th>\n",
              "      <td>1599.0</td>\n",
              "      <td>46.467792</td>\n",
              "      <td>32.895324</td>\n",
              "      <td>6.00000</td>\n",
              "      <td>22.0000</td>\n",
              "      <td>38.00000</td>\n",
              "      <td>62.000000</td>\n",
              "      <td>289.00000</td>\n",
              "    </tr>\n",
              "    <tr>\n",
              "      <th>density</th>\n",
              "      <td>1599.0</td>\n",
              "      <td>0.996747</td>\n",
              "      <td>0.001887</td>\n",
              "      <td>0.99007</td>\n",
              "      <td>0.9956</td>\n",
              "      <td>0.99675</td>\n",
              "      <td>0.997835</td>\n",
              "      <td>1.00369</td>\n",
              "    </tr>\n",
              "    <tr>\n",
              "      <th>pH</th>\n",
              "      <td>1599.0</td>\n",
              "      <td>3.311113</td>\n",
              "      <td>0.154386</td>\n",
              "      <td>2.74000</td>\n",
              "      <td>3.2100</td>\n",
              "      <td>3.31000</td>\n",
              "      <td>3.400000</td>\n",
              "      <td>4.01000</td>\n",
              "    </tr>\n",
              "    <tr>\n",
              "      <th>sulphates</th>\n",
              "      <td>1599.0</td>\n",
              "      <td>0.658149</td>\n",
              "      <td>0.169507</td>\n",
              "      <td>0.33000</td>\n",
              "      <td>0.5500</td>\n",
              "      <td>0.62000</td>\n",
              "      <td>0.730000</td>\n",
              "      <td>2.00000</td>\n",
              "    </tr>\n",
              "    <tr>\n",
              "      <th>alcohol</th>\n",
              "      <td>1599.0</td>\n",
              "      <td>10.422983</td>\n",
              "      <td>1.065668</td>\n",
              "      <td>8.40000</td>\n",
              "      <td>9.5000</td>\n",
              "      <td>10.20000</td>\n",
              "      <td>11.100000</td>\n",
              "      <td>14.90000</td>\n",
              "    </tr>\n",
              "    <tr>\n",
              "      <th>quality</th>\n",
              "      <td>1599.0</td>\n",
              "      <td>5.636023</td>\n",
              "      <td>0.807569</td>\n",
              "      <td>3.00000</td>\n",
              "      <td>5.0000</td>\n",
              "      <td>6.00000</td>\n",
              "      <td>6.000000</td>\n",
              "      <td>8.00000</td>\n",
              "    </tr>\n",
              "  </tbody>\n",
              "</table>\n",
              "</div>\n",
              "      <button class=\"colab-df-convert\" onclick=\"convertToInteractive('df-7cd3c1e9-9c62-428c-be56-6e2e325139a8')\"\n",
              "              title=\"Convert this dataframe to an interactive table.\"\n",
              "              style=\"display:none;\">\n",
              "        \n",
              "  <svg xmlns=\"http://www.w3.org/2000/svg\" height=\"24px\"viewBox=\"0 0 24 24\"\n",
              "       width=\"24px\">\n",
              "    <path d=\"M0 0h24v24H0V0z\" fill=\"none\"/>\n",
              "    <path d=\"M18.56 5.44l.94 2.06.94-2.06 2.06-.94-2.06-.94-.94-2.06-.94 2.06-2.06.94zm-11 1L8.5 8.5l.94-2.06 2.06-.94-2.06-.94L8.5 2.5l-.94 2.06-2.06.94zm10 10l.94 2.06.94-2.06 2.06-.94-2.06-.94-.94-2.06-.94 2.06-2.06.94z\"/><path d=\"M17.41 7.96l-1.37-1.37c-.4-.4-.92-.59-1.43-.59-.52 0-1.04.2-1.43.59L10.3 9.45l-7.72 7.72c-.78.78-.78 2.05 0 2.83L4 21.41c.39.39.9.59 1.41.59.51 0 1.02-.2 1.41-.59l7.78-7.78 2.81-2.81c.8-.78.8-2.07 0-2.86zM5.41 20L4 18.59l7.72-7.72 1.47 1.35L5.41 20z\"/>\n",
              "  </svg>\n",
              "      </button>\n",
              "      \n",
              "  <style>\n",
              "    .colab-df-container {\n",
              "      display:flex;\n",
              "      flex-wrap:wrap;\n",
              "      gap: 12px;\n",
              "    }\n",
              "\n",
              "    .colab-df-convert {\n",
              "      background-color: #E8F0FE;\n",
              "      border: none;\n",
              "      border-radius: 50%;\n",
              "      cursor: pointer;\n",
              "      display: none;\n",
              "      fill: #1967D2;\n",
              "      height: 32px;\n",
              "      padding: 0 0 0 0;\n",
              "      width: 32px;\n",
              "    }\n",
              "\n",
              "    .colab-df-convert:hover {\n",
              "      background-color: #E2EBFA;\n",
              "      box-shadow: 0px 1px 2px rgba(60, 64, 67, 0.3), 0px 1px 3px 1px rgba(60, 64, 67, 0.15);\n",
              "      fill: #174EA6;\n",
              "    }\n",
              "\n",
              "    [theme=dark] .colab-df-convert {\n",
              "      background-color: #3B4455;\n",
              "      fill: #D2E3FC;\n",
              "    }\n",
              "\n",
              "    [theme=dark] .colab-df-convert:hover {\n",
              "      background-color: #434B5C;\n",
              "      box-shadow: 0px 1px 3px 1px rgba(0, 0, 0, 0.15);\n",
              "      filter: drop-shadow(0px 1px 2px rgba(0, 0, 0, 0.3));\n",
              "      fill: #FFFFFF;\n",
              "    }\n",
              "  </style>\n",
              "\n",
              "      <script>\n",
              "        const buttonEl =\n",
              "          document.querySelector('#df-7cd3c1e9-9c62-428c-be56-6e2e325139a8 button.colab-df-convert');\n",
              "        buttonEl.style.display =\n",
              "          google.colab.kernel.accessAllowed ? 'block' : 'none';\n",
              "\n",
              "        async function convertToInteractive(key) {\n",
              "          const element = document.querySelector('#df-7cd3c1e9-9c62-428c-be56-6e2e325139a8');\n",
              "          const dataTable =\n",
              "            await google.colab.kernel.invokeFunction('convertToInteractive',\n",
              "                                                     [key], {});\n",
              "          if (!dataTable) return;\n",
              "\n",
              "          const docLinkHtml = 'Like what you see? Visit the ' +\n",
              "            '<a target=\"_blank\" href=https://colab.research.google.com/notebooks/data_table.ipynb>data table notebook</a>'\n",
              "            + ' to learn more about interactive tables.';\n",
              "          element.innerHTML = '';\n",
              "          dataTable['output_type'] = 'display_data';\n",
              "          await google.colab.output.renderOutput(dataTable, element);\n",
              "          const docLink = document.createElement('div');\n",
              "          docLink.innerHTML = docLinkHtml;\n",
              "          element.appendChild(docLink);\n",
              "        }\n",
              "      </script>\n",
              "    </div>\n",
              "  </div>\n",
              "  "
            ]
          },
          "metadata": {},
          "execution_count": 7
        }
      ],
      "source": [
        "df.describe().T"
      ]
    },
    {
      "cell_type": "markdown",
      "metadata": {
        "id": "toYhhJ4v55WI"
      },
      "source": [
        "# Part 2: Data Preparation"
      ]
    },
    {
      "cell_type": "markdown",
      "metadata": {
        "id": "zUDh9O2T55WI"
      },
      "source": [
        "### Q. Discuss the following types of missing data and how they would be handled in reference to your dataset where applicable.\n",
        "*\tMissing completely at random (MCAR)\n",
        "*\tMissing at random (MAR)\n",
        "*\tMissing Not at Random (MNAR)"
      ]
    },
    {
      "cell_type": "markdown",
      "source": [
        "No missing entries - check for balance of data, outliers, and how correlated data is."
      ],
      "metadata": {
        "id": "Rhu-eZwTgEFT"
      }
    },
    {
      "cell_type": "markdown",
      "source": [
        "Q. Is there any correlation in the data? How would you decide which columns to keep?"
      ],
      "metadata": {
        "id": "Z-_eDG2e_C2W"
      }
    },
    {
      "cell_type": "code",
      "source": [
        "import seaborn as sns"
      ],
      "metadata": {
        "id": "_eRjAQ6u_CHm"
      },
      "execution_count": 8,
      "outputs": []
    },
    {
      "cell_type": "code",
      "source": [
        "sns.heatmap(df.corr(), cmap='coolwarm')"
      ],
      "metadata": {
        "id": "xhb--ilSgmOg",
        "outputId": "8f0ee531-8cbb-489c-b1d2-b87f78f7669f",
        "colab": {
          "base_uri": "https://localhost:8080/",
          "height": 371
        }
      },
      "execution_count": 11,
      "outputs": [
        {
          "output_type": "execute_result",
          "data": {
            "text/plain": [
              "<matplotlib.axes._subplots.AxesSubplot at 0x7fb7621640d0>"
            ]
          },
          "metadata": {},
          "execution_count": 11
        },
        {
          "output_type": "display_data",
          "data": {
            "text/plain": [
              "<Figure size 432x288 with 2 Axes>"
            ],
            "image/png": "[encoded data removed]"
          },
          "metadata": {
            "needs_background": "light"
          }
        }
      ]
    },
    {
      "cell_type": "code",
      "source": [
        "sns.countplot(data=df, x='quality')"
      ],
      "metadata": {
        "id": "cISiKSjoh-ic",
        "outputId": "9909101f-6184-495f-edec-a706505f6872",
        "colab": {
          "base_uri": "https://localhost:8080/",
          "height": 297
        }
      },
      "execution_count": 10,
      "outputs": [
        {
          "output_type": "execute_result",
          "data": {
            "text/plain": [
              "<matplotlib.axes._subplots.AxesSubplot at 0x7fb765002350>"
            ]
          },
          "metadata": {},
          "execution_count": 10
        },
        {
          "output_type": "display_data",
          "data": {
            "text/plain": [
              "<Figure size 432x288 with 1 Axes>"
            ],
            "image/png": "[encoded data removed]"
          },
          "metadata": {
            "needs_background": "light"
          }
        }
      ]
    },
    {
      "cell_type": "markdown",
      "source": [
        "Q. Are there any outliers in the dataset? What do you do with them?"
      ],
      "metadata": {
        "id": "v9gQBGnZ_QiC"
      }
    },
    {
      "cell_type": "code",
      "source": [
        "# OPTIONAL\n",
        "# Z-Score\n",
        "# check for values >3 and <-3\n",
        "# What do i do with them?\n",
        "# 1) Remove them \n",
        "# 2) replace all >3 with max, <-3 with min\n",
        "# 3) Ignore\n",
        "\n",
        "# Detecting Frauds, Anomalies "
      ],
      "metadata": {
        "id": "qKUVWPJq_fTq"
      },
      "execution_count": null,
      "outputs": []
    },
    {
      "cell_type": "code",
      "source": [
        "z_score = (df - df.mean()) / df.std()"
      ],
      "metadata": {
        "id": "8K2ct6pmpZ2T"
      },
      "execution_count": 15,
      "outputs": []
    },
    {
      "cell_type": "code",
      "source": [
        "df[(z_score > 3) | (z_score < -3)].info()"
      ],
      "metadata": {
        "id": "Sv3hdywS-1md",
        "outputId": "cd1b1627-81f4-488d-865e-d2fd6e3b39ae",
        "colab": {
          "base_uri": "https://localhost:8080/"
        }
      },
      "execution_count": 27,
      "outputs": [
        {
          "output_type": "stream",
          "name": "stdout",
          "text": [
            "<class 'pandas.core.frame.DataFrame'>\n",
            "RangeIndex: 1599 entries, 0 to 1598\n",
            "Data columns (total 12 columns):\n",
            " #   Column                Non-Null Count  Dtype  \n",
            "---  ------                --------------  -----  \n",
            " 0   fixed acidity         12 non-null     float64\n",
            " 1   volatile acidity      10 non-null     float64\n",
            " 2   citric acid           1 non-null      float64\n",
            " 3   residual sugar        30 non-null     float64\n",
            " 4   chlorides             31 non-null     float64\n",
            " 5   free sulfur dioxide   22 non-null     float64\n",
            " 6   total sulfur dioxide  15 non-null     float64\n",
            " 7   density               18 non-null     float64\n",
            " 8   pH                    8 non-null      float64\n",
            " 9   sulphates             27 non-null     float64\n",
            " 10  alcohol               8 non-null      float64\n",
            " 11  quality               10 non-null     float64\n",
            "dtypes: float64(12)\n",
            "memory usage: 150.0 KB\n"
          ]
        }
      ]
    },
    {
      "cell_type": "markdown",
      "source": [
        "Q. Split the data for TRAINING and SCORING (testing). OPTIONAL: Discuss what problems could happen we have poor distribution b/w training and testing?"
      ],
      "metadata": {
        "id": "TxPO0Ch5Pv3F"
      }
    },
    {
      "cell_type": "code",
      "source": [
        "from sklearn.model_selection import train_test_split\n",
        "X_train, X_test, y_train, y_test = train_test_split(df.drop('quality',axis=1), df['quality'], test_size=0.3, random_state=42)"
      ],
      "metadata": {
        "id": "W1XMipDDMiCG"
      },
      "execution_count": 38,
      "outputs": []
    },
    {
      "cell_type": "code",
      "source": [
        "from sklearn.preprocessing import StandardScaler\n",
        "\n",
        "scaler = StandardScaler()\n",
        "X_train_s = scaler.fit_transform(X_train)\n",
        "X_test_s = scaler.transform(X_test)"
      ],
      "metadata": {
        "id": "Rsg6oBg2I9NI"
      },
      "execution_count": 39,
      "outputs": []
    },
    {
      "cell_type": "markdown",
      "metadata": {
        "id": "s5jKhdFd55WJ"
      },
      "source": [
        "# Part 3: Model Selection"
      ]
    },
    {
      "cell_type": "markdown",
      "metadata": {
        "id": "bosw1yWg55WJ"
      },
      "source": [
        "### Q. Use the cheat sheet below to choose the algorithm/estimator suitable for building a model to address your candidate question(s)\n",
        "\n",
        "* https://scikit-learn.org/stable/tutorial/machine_learning_map/"
      ]
    },
    {
      "cell_type": "code",
      "source": [
        "# for loop b/w all your models\n",
        "\n",
        "# xtrain,xtest, ytrain,ytest = train_test_split\n",
        "\n",
        "# model.fit-> xTRAIN , xTEST\n",
        "# predictions = model.predict(xtest)\n",
        "# accuracy_score/rmse/mae/precision for (predictions, ytest)\n",
        "\n",
        "# MAJOR-> string/ranges values-> convert into numbers\n"
      ],
      "metadata": {
        "id": "39bauCNWR2ve"
      },
      "execution_count": null,
      "outputs": []
    },
    {
      "cell_type": "code",
      "source": [
        "# models\n",
        "from sklearn.linear_model import Ridge\n",
        "from sklearn.svm import SVR\n",
        "from sklearn.ensemble import RandomForestRegressor\n",
        "from xgboost import XGBRegressor\n",
        "# metric\n",
        "from sklearn.metrics import mean_squared_error\n",
        "\n",
        "models = [Ridge(), SVR(kernel='linear'), SVR(kernel='rbf'), RandomForestRegressor(), XGBRegressor()]\n",
        "\n",
        "for algo in models:\n",
        "  # Instantiate, fit, predict\n",
        "  mod = algo\n",
        "  mod.fit(X_train_s, y_train)\n",
        "  predictions = mod.predict(X_test_s)\n",
        "  # Test score\n",
        "  MSE = mean_squared_error(y_test, predictions)\n",
        "  RMSE = np.sqrt(MSE)\n",
        "  print(RMSE)"
      ],
      "metadata": {
        "id": "FLxRjY9QRK_x",
        "outputId": "3097bb5b-559e-48c9-fb6e-b16fabc10e6b",
        "colab": {
          "base_uri": "https://localhost:8080/"
        }
      },
      "execution_count": 42,
      "outputs": [
        {
          "output_type": "stream",
          "name": "stdout",
          "text": [
            "0.6412667559248854\n",
            "0.6486001051410989\n",
            "0.6124627883042303\n",
            "0.582601386026501\n",
            "[15:21:04] WARNING: /workspace/src/objective/regression_obj.cu:152: reg:linear is now deprecated in favor of reg:squarederror.\n",
            "0.6214513264220592\n"
          ]
        }
      ]
    },
    {
      "cell_type": "markdown",
      "source": [
        "Random forest has lowest root mean squared error, so is best algorithm to begin with."
      ],
      "metadata": {
        "id": "CPrfO4zdUmcB"
      }
    },
    {
      "cell_type": "code",
      "execution_count": 52,
      "metadata": {
        "id": "MKlEwnam55WK",
        "outputId": "bfa5c125-f7d0-4b41-ba5a-5751b6569e34",
        "colab": {
          "base_uri": "https://localhost:8080/"
        }
      },
      "outputs": [
        {
          "output_type": "stream",
          "name": "stdout",
          "text": [
            "Fitting 5 folds for each of 8 candidates, totalling 40 fits\n",
            "{'max_features': 'sqrt', 'n_estimators': 400}\n",
            "0.5696951510274303\n"
          ]
        }
      ],
      "source": [
        "from sklearn.model_selection import GridSearchCV\n",
        "from sklearn.metrics import roc_auc_score\n",
        "\n",
        "params = {'n_estimators':[100,200,400,600], 'max_features':('auto','sqrt')}\n",
        "grid = GridSearchCV(RandomForestRegressor(), params, scoring='neg_mean_squared_error', verbose=1)\n",
        "\n",
        "grid.fit(X_train_s, y_train)\n",
        "\n",
        "print(grid.best_params_) \n",
        "grid_predictions = grid.predict(X_test_s) \n",
        "   \n",
        "print(np.sqrt(mean_squared_error(y_test, grid_predictions)))"
      ]
    },
    {
      "cell_type": "markdown",
      "source": [
        "Reduced loss slightly with grid search on parameters."
      ],
      "metadata": {
        "id": "nGogINiugOHQ"
      }
    }
  ],
  "metadata": {
    "kernelspec": {
      "display_name": "Python 3",
      "language": "python",
      "name": "python3"
    },
    "language_info": {
      "codemirror_mode": {
        "name": "ipython",
        "version": 3
      },
      "file_extension": ".py",
      "mimetype": "text/x-python",
      "name": "python",
      "nbconvert_exporter": "python",
      "pygments_lexer": "ipython3",
      "version": "3.7.4"
    },
    "colab": {
      "name": "Choosing the right estimator Enhanced.ipynb",
      "provenance": [],
      "include_colab_link": true
    }
  },
  "nbformat": 4,
  "nbformat_minor": 0
}